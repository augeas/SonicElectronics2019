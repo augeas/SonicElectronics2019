{
 "cells": [
  {
   "cell_type": "code",
   "execution_count": 1,
   "metadata": {},
   "outputs": [],
   "source": [
    "from io import BytesIO\n",
    "from itertools import islice\n",
    "import math\n",
    "\n",
    "import IPython.display\n",
    "import ipywidgets as widgets\n",
    "from ipywidgets import interact\n",
    "from matplotlib import cm\n",
    "import matplotlib.pyplot as plt\n",
    "import numpy as np\n",
    "from imageio import imwrite"
   ]
  },
  {
   "cell_type": "markdown",
   "metadata": {},
   "source": [
    "![Both Kinds!](img/both_kinds.png)"
   ]
  },
  {
   "cell_type": "markdown",
   "metadata": {},
   "source": [
    "# Fast Fourier Transforms\n",
    "\n",
    "[![Think DSP](http://greenteapress.com/wp/wp-content/uploads/2016/01/think_dsp_cover-229x300.jpg)](http://greenteapress.com/wp/think-dsp/)"
   ]
  },
  {
   "cell_type": "code",
   "execution_count": 6,
   "metadata": {},
   "outputs": [],
   "source": [
    "def pulse_wave(period, width, N, samples=128):\n",
    "    pw = width / period\n",
    "    wave = np.zeros((N+1, samples))\n",
    "    t = 2.0*np.pi * np.linspace(0.0, 2*np.pi, samples) / period\n",
    "    for i in range(N-1):\n",
    "        n = i+1\n",
    "        wave[i,:] = 2.0/(n*np.pi) * np.sin(np.pi*n*pw) * np.cos(n*t)\n",
    "    wave[N-1,:] = pw + wave[0:N-1,:].sum(axis=0)\n",
    "    return wave\n",
    "\n",
    "def plot_pulse_wave(period, pulse_width, harmonics):\n",
    "    fig, ax = plt.subplots()\n",
    "    fig.set_size_inches(10, 6)\n",
    "    width = pulse_width * period\n",
    "    t = np.linspace(0.0, 2*np.pi, 512)\n",
    "    wave = pulse_wave(period, width, harmonics, 512)\n",
    "    for i in range(harmonics-1):\n",
    "        plt.plot(t, wave[i], color='blue')\n",
    "    plt.plot(t, wave[harmonics-1], color='green', linewidth=2)"
   ]
  },
  {
   "cell_type": "markdown",
   "metadata": {},
   "source": [
    "# [Pulse Waves](https://en.wikipedia.org/wiki/Pulse_wave)\n",
    "\n",
    "$$\\Large{\\textrm{At time t for period T and duty-cycle $\\tau$:}\n",
    "\\\\f(t) = \\frac{\\tau}{T} + \\sum_{n=1}^{\\infty}\\frac{2}{n\\pi}sin\\left(\\frac{\\pi n\\tau}{T}\\right)\n",
    "cos\\left(\\frac{2\\pi n t}{T} \\right)}$$\n"
   ]
  },
  {
   "cell_type": "code",
   "execution_count": 7,
   "metadata": {},
   "outputs": [
    {
     "data": {
      "application/vnd.jupyter.widget-view+json": {
       "model_id": "78eab1187aa54dcc88b56b99d9050911",
       "version_major": 2,
       "version_minor": 0
      },
      "text/plain": [
       "interactive(children=(FloatSlider(value=3.0, description='period', max=6.0, min=0.5, step=0.5), FloatSlider(va…"
      ]
     },
     "metadata": {},
     "output_type": "display_data"
    },
    {
     "data": {
      "text/plain": [
       "<function __main__.plot_pulse_wave(period, pulse_width, harmonics)>"
      ]
     },
     "execution_count": 7,
     "metadata": {},
     "output_type": "execute_result"
    }
   ],
   "source": [
    "interact(plot_pulse_wave,\n",
    "    period = widgets.FloatSlider(min=0.5, max=6.0, value=3.0, step=0.5, description='period'),\n",
    "    pulse_width = widgets.FloatSlider(min=0.1, max=0.99, value=0.5, step=0.1, description='duty-cycle'),\n",
    "    harmonics = widgets.IntSlider(min=1, max=50, value=8, step=1, description='harmonics'))"
   ]
  },
  {
   "cell_type": "markdown",
   "metadata": {},
   "source": [
    "# [The Gauss Map](https://en.wikipedia.org/wiki/Gauss_iterated_map)\n",
    "$$\\Huge{x_{n+1} = e^{(-\\alpha x_{n}^2)}+\\beta}$$"
   ]
  },
  {
   "cell_type": "code",
   "execution_count": 12,
   "metadata": {},
   "outputs": [],
   "source": [
    "def gauss_map(x,alpha,beta):\n",
    "    while True:\n",
    "        yield x\n",
    "        x = math.exp(-alpha*x*x) + beta\n",
    "        \n",
    "def gauss_hist(alpha,beta,n,count,skip):\n",
    "    gm = gauss_map(0.01,alpha,beta)\n",
    "    hist = np.histogram(list(islice(gm,skip,skip+count)),n,(-1.5,1.5))[0]\n",
    "    scale = 1.0 / np.max(hist)\n",
    "    return hist * scale\n",
    "\n",
    "def plot_gauss_hist(alpha,beta):\n",
    "    fig, ax = plt.subplots()\n",
    "    fig.set_size_inches(10, 6)\n",
    "    plt.plot(gauss_hist(alpha, beta, 720, 512, 4096), color='green')\n",
    "    plt.show()"
   ]
  },
  {
   "cell_type": "code",
   "execution_count": 14,
   "metadata": {},
   "outputs": [
    {
     "data": {
      "application/vnd.jupyter.widget-view+json": {
       "model_id": "6355fdd22aa5477c96ca6500db3f08aa",
       "version_major": 2,
       "version_minor": 0
      },
      "text/plain": [
       "interactive(children=(FloatSlider(value=4.0, description='\\\\(\\\\Large{\\\\alpha}\\\\)', max=9.75, min=1.0, step=0.5…"
      ]
     },
     "metadata": {},
     "output_type": "display_data"
    },
    {
     "data": {
      "text/plain": [
       "<function __main__.plot_gauss_hist(alpha, beta)>"
      ]
     },
     "execution_count": 14,
     "metadata": {},
     "output_type": "execute_result"
    }
   ],
   "source": [
    "interact(plot_gauss_hist, alpha=widgets.FloatSlider(min=1.0,max=9.75, value=4.0, step=0.5, description=r'\\(\\Large{\\alpha}\\)'),\n",
    "    beta=widgets.FloatSlider(min=-1.0,max=1.0, value=-0.5, step=0.05, description=r'\\(\\Large{\\beta}\\)'))"
   ]
  },
  {
   "cell_type": "code",
   "execution_count": 15,
   "metadata": {},
   "outputs": [],
   "source": [
    "def gauss_image(alpha, beta_min, beta_max, width, height):\n",
    "    img = np.zeros(shape=(height, width,3))\n",
    "    for y, beta in enumerate(np.linspace(beta_min, beta_max, width)):\n",
    "        img[:,y,1] = gauss_hist(alpha, beta, height, 512, 4096)[::-1]\n",
    "    img = 255 * img / img.max()\n",
    "    return img.astype(np.uint8)\n",
    "\n",
    "def plot_gauss_image(alpha):\n",
    "    im_bytes = BytesIO()\n",
    "    imwrite(im_bytes, gauss_image(alpha, -1.0, 1.0, 600, 480), format='png')\n",
    "    return IPython.display.display(IPython.display.Image(data=im_bytes.getvalue()))"
   ]
  },
  {
   "cell_type": "code",
   "execution_count": 16,
   "metadata": {},
   "outputs": [
    {
     "data": {
      "application/vnd.jupyter.widget-view+json": {
       "model_id": "5c3995506289406a9783cafe6eb06b4a",
       "version_major": 2,
       "version_minor": 0
      },
      "text/plain": [
       "interactive(children=(FloatSlider(value=5.0, description='\\\\(\\\\Large{\\\\alpha}\\\\)', max=9.75, min=1.0, step=0.5…"
      ]
     },
     "metadata": {},
     "output_type": "display_data"
    },
    {
     "data": {
      "text/plain": [
       "<function __main__.plot_gauss_image(alpha)>"
      ]
     },
     "execution_count": 16,
     "metadata": {},
     "output_type": "execute_result"
    }
   ],
   "source": [
    "interact(plot_gauss_image, alpha=widgets.FloatSlider(min=1.0,max=9.75, value=5.0, step=0.5, description=r'\\(\\Large{\\alpha}\\)'))"
   ]
  },
  {
   "cell_type": "code",
   "execution_count": null,
   "metadata": {},
   "outputs": [],
   "source": []
  },
  {
   "cell_type": "code",
   "execution_count": null,
   "metadata": {},
   "outputs": [],
   "source": []
  }
 ],
 "metadata": {
  "kernelspec": {
   "display_name": "Python 3",
   "language": "python",
   "name": "python3"
  },
  "language_info": {
   "codemirror_mode": {
    "name": "ipython",
    "version": 3
   },
   "file_extension": ".py",
   "mimetype": "text/x-python",
   "name": "python",
   "nbconvert_exporter": "python",
   "pygments_lexer": "ipython3",
   "version": "3.5.2"
  }
 },
 "nbformat": 4,
 "nbformat_minor": 2
}
