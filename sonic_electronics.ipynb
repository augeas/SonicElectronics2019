{
 "cells": [
  {
   "cell_type": "code",
   "execution_count": 8,
   "metadata": {},
   "outputs": [],
   "source": [
    "from io import BytesIO\n",
    "from itertools import islice\n",
    "import math\n",
    "\n",
    "import IPython.display\n",
    "import ipywidgets as widgets\n",
    "from imageio import imwrite\n",
    "from ipywidgets import interact\n",
    "from matplotlib import cm\n",
    "import matplotlib.pyplot as plt\n",
    "import numpy as np\n",
    "from scipy.interpolate import UnivariateSpline\n",
    "from scipy.io import wavfile\n",
    "from scipy.signal import get_window"
   ]
  },
  {
   "cell_type": "markdown",
   "metadata": {},
   "source": [
    "![Both Kinds!](img/both_kinds.png)"
   ]
  },
  {
   "cell_type": "markdown",
   "metadata": {},
   "source": [
    "# Fast Fourier Transforms\n",
    "\n",
    "[![Think DSP](http://greenteapress.com/wp/wp-content/uploads/2016/01/think_dsp_cover-229x300.jpg)](http://greenteapress.com/wp/think-dsp/)"
   ]
  },
  {
   "cell_type": "code",
   "execution_count": 2,
   "metadata": {},
   "outputs": [],
   "source": [
    "def pulse_wave(period, width, N, samples=128):\n",
    "    pw = width / period\n",
    "    wave = np.zeros((N+1, samples))\n",
    "    t = 2.0*np.pi * np.linspace(0.0, 2*np.pi, samples) / period\n",
    "    for i in range(N-1):\n",
    "        n = i+1\n",
    "        wave[i,:] = 2.0/(n*np.pi) * np.sin(np.pi*n*pw) * np.cos(n*t)\n",
    "    wave[N-1,:] = pw + wave[0:N-1,:].sum(axis=0)\n",
    "    return wave\n",
    "\n",
    "def plot_pulse_wave(period, pulse_width, harmonics):\n",
    "    fig, ax = plt.subplots()\n",
    "    fig.set_size_inches(10, 6)\n",
    "    width = pulse_width * period\n",
    "    t = np.linspace(0.0, 2*np.pi, 512)\n",
    "    wave = pulse_wave(period, width, harmonics, 512)\n",
    "    for i in range(harmonics-1):\n",
    "        plt.plot(t, wave[i], color='blue')\n",
    "    plt.plot(t, wave[harmonics-1], color='green', linewidth=2)"
   ]
  },
  {
   "cell_type": "markdown",
   "metadata": {},
   "source": [
    "# [Pulse Waves](https://en.wikipedia.org/wiki/Pulse_wave)\n",
    "\n",
    "$$\\Large{\\textrm{At time t for period T and duty-cycle $\\tau$:}\n",
    "\\\\f(t) = \\frac{\\tau}{T} + \\sum_{n=1}^{\\infty}\\frac{2}{n\\pi}sin\\left(\\frac{\\pi n\\tau}{T}\\right)\n",
    "cos\\left(\\frac{2\\pi n t}{T} \\right)}$$\n"
   ]
  },
  {
   "cell_type": "code",
   "execution_count": 3,
   "metadata": {},
   "outputs": [
    {
     "data": {
      "application/vnd.jupyter.widget-view+json": {
       "model_id": "a6280fa9eea24cfcad1912ef182dede0",
       "version_major": 2,
       "version_minor": 0
      },
      "text/plain": [
       "interactive(children=(FloatSlider(value=3.0, description='period', max=6.0, min=0.5, step=0.5), FloatSlider(va…"
      ]
     },
     "metadata": {},
     "output_type": "display_data"
    },
    {
     "data": {
      "text/plain": [
       "<function __main__.plot_pulse_wave(period, pulse_width, harmonics)>"
      ]
     },
     "execution_count": 3,
     "metadata": {},
     "output_type": "execute_result"
    }
   ],
   "source": [
    "interact(plot_pulse_wave,\n",
    "    period = widgets.FloatSlider(min=0.5, max=6.0, value=3.0, step=0.5, description='period'),\n",
    "    pulse_width = widgets.FloatSlider(min=0.1, max=0.99, value=0.5, step=0.1, description='duty-cycle'),\n",
    "    harmonics = widgets.IntSlider(min=1, max=50, value=8, step=1, description='harmonics'))"
   ]
  },
  {
   "cell_type": "markdown",
   "metadata": {},
   "source": [
    "# [The Gauss Map](https://en.wikipedia.org/wiki/Gauss_iterated_map)\n",
    "$$\\Huge{x_{n+1} = e^{(-\\alpha x_{n}^2)}+\\beta}$$"
   ]
  },
  {
   "cell_type": "code",
   "execution_count": 4,
   "metadata": {},
   "outputs": [],
   "source": [
    "def gauss_map(x,alpha,beta):\n",
    "    while True:\n",
    "        yield x\n",
    "        x = math.exp(-alpha*x*x) + beta\n",
    "        \n",
    "def gauss_hist(alpha,beta,n,count,skip):\n",
    "    gm = gauss_map(0.01,alpha,beta)\n",
    "    hist = np.histogram(list(islice(gm,skip,skip+count)),n,(-1.5,1.5))[0]\n",
    "    scale = 1.0 / np.max(hist)\n",
    "    return hist * scale\n",
    "\n",
    "def plot_gauss_hist(alpha,beta):\n",
    "    fig, ax = plt.subplots()\n",
    "    fig.set_size_inches(10, 6)\n",
    "    plt.plot(gauss_hist(alpha, beta, 720, 512, 4096), color='green')\n",
    "    plt.show()"
   ]
  },
  {
   "cell_type": "code",
   "execution_count": 5,
   "metadata": {},
   "outputs": [
    {
     "data": {
      "application/vnd.jupyter.widget-view+json": {
       "model_id": "193ea35943e4491b942bd9412a52190d",
       "version_major": 2,
       "version_minor": 0
      },
      "text/plain": [
       "interactive(children=(FloatSlider(value=4.0, description='\\\\(\\\\Large{\\\\alpha}\\\\)', max=9.75, min=1.0, step=0.5…"
      ]
     },
     "metadata": {},
     "output_type": "display_data"
    },
    {
     "data": {
      "text/plain": [
       "<function __main__.plot_gauss_hist(alpha, beta)>"
      ]
     },
     "execution_count": 5,
     "metadata": {},
     "output_type": "execute_result"
    }
   ],
   "source": [
    "interact(plot_gauss_hist, alpha=widgets.FloatSlider(min=1.0,max=9.75, value=4.0, step=0.5, description=r'\\(\\Large{\\alpha}\\)'),\n",
    "    beta=widgets.FloatSlider(min=-1.0,max=1.0, value=-0.5, step=0.05, description=r'\\(\\Large{\\beta}\\)'))"
   ]
  },
  {
   "cell_type": "code",
   "execution_count": 40,
   "metadata": {},
   "outputs": [],
   "source": [
    "def gauss_image(alpha, beta_min, beta_max, width, height):\n",
    "    img = np.zeros(shape=(height, width,3))\n",
    "    for y, beta in enumerate(np.linspace(beta_min, beta_max, width)):\n",
    "        img[:,y,1] = gauss_hist(alpha, beta, height, 512, 4096)[::-1]\n",
    "    img = 255 * img / img.max()\n",
    "    return img.astype(np.uint8)\n",
    "\n",
    "def plot_gauss_image(alpha):\n",
    "    im_bytes = BytesIO()\n",
    "    imwrite(im_bytes, gauss_image(alpha, -1.0, 1.0, 600, 480), format='png')\n",
    "    return IPython.display.display(IPython.display.Image(data=im_bytes.getvalue()))\n",
    "\n",
    "def segment(hist, n, win):\n",
    "    return np.multiply(np.real(np.fft.irfft(hist, n=n)), win)"
   ]
  },
  {
   "cell_type": "code",
   "execution_count": 7,
   "metadata": {},
   "outputs": [
    {
     "data": {
      "application/vnd.jupyter.widget-view+json": {
       "model_id": "0f7cca9ede154dd29a6c6fa37e04f4f4",
       "version_major": 2,
       "version_minor": 0
      },
      "text/plain": [
       "interactive(children=(FloatSlider(value=5.0, description='\\\\(\\\\Large{\\\\alpha}\\\\)', max=9.75, min=1.0, step=0.5…"
      ]
     },
     "metadata": {},
     "output_type": "display_data"
    },
    {
     "data": {
      "text/plain": [
       "<function __main__.plot_gauss_image(alpha)>"
      ]
     },
     "execution_count": 7,
     "metadata": {},
     "output_type": "execute_result"
    }
   ],
   "source": [
    "interact(plot_gauss_image, alpha=widgets.FloatSlider(min=1.0,max=9.75, value=5.0, step=0.5, description=r'\\(\\Large{\\alpha}\\)'))"
   ]
  },
  {
   "cell_type": "code",
   "execution_count": 42,
   "metadata": {
    "code_folding": [
     0
    ],
    "scrolled": true
   },
   "outputs": [
    {
     "data": {
      "text/plain": [
       "Text(0, 0.5, 'windowed signal')"
      ]
     },
     "execution_count": 42,
     "metadata": {},
     "output_type": "execute_result"
    },
    {
     "data": {
      "image/png": "[encoded data removed]",
      "text/plain": [
       "<Figure size 864x432 with 3 Axes>"
      ]
     },
     "metadata": {
      "needs_background": "light"
     },
     "output_type": "display_data"
    }
   ],
   "source": [
    "# Example of a windowed IFFT.\n",
    "%matplotlib inline\n",
    "N = 1024\n",
    "window = get_window('blackmanharris',2*(N-1))\n",
    "fig, axs = plt.subplots(3, 1)\n",
    "fig.set_size_inches(12, 6)\n",
    "axs[0].plot(np.real(np.fft.irfft(gauss_hist(9.0, -0.6, 1024, 512, 409), n=2046)), color='green')\n",
    "axs[0].set_ylabel('inverse FFT')\n",
    "axs[1].plot(window, color='green', linewidth=2)\n",
    "axs[1].set_ylabel('window')\n",
    "axs[2].plot(segment(gauss_hist(9.0,-0.6,1024,512,409),2046,window), color='green')\n",
    "axs[2].set_ylabel('windowed signal')"
   ]
  },
  {
   "cell_type": "markdown",
   "metadata": {},
   "source": [
    "![the first thing to do would be to consider time as offically ended](img/time_officially_ended.png)"
   ]
  },
  {
   "cell_type": "code",
   "execution_count": 39,
   "metadata": {},
   "outputs": [],
   "source": [
    "def scan(alpha_min,alpha_max,alpha_count,beta_min,beta_max,beta_count):\n",
    "    d_alpha = (alpha_max - alpha_min) / alpha_count\n",
    "    d_beta = (beta_max - beta_min) / beta_count\n",
    "    beta = beta_min\n",
    "    for i in range(alpha_count):\n",
    "        alpha = alpha_min + d_alpha * i\n",
    "        if i % 2 == 1:\n",
    "            db = -d_beta\n",
    "        else:\n",
    "            db = d_beta\n",
    "        for j in range(beta_count):\n",
    "            yield(alpha, beta)\n",
    "            beta += db\n",
    "\n",
    "            \n",
    "def frame_count(dur,N,H,bias,rate=44100):\n",
    "    frames = dur * rate\n",
    "    segments = int(frames / H)\n",
    "    alpha_count = int(bias * np.sqrt(segments))\n",
    "    beta_count = int(segments / alpha_count)\n",
    "    segments = alpha_count * beta_count\n",
    "    frames = 2 * (N-1) + segments * H\n",
    "    return frames, alpha_count, beta_count\n",
    "\n",
    "\n",
    "def build_frames(dur,N,n,H,bias,rate=44100):\n",
    "    pan_range = np.arange(N)\n",
    "    frames, alpha_count, beta_count = frame_count(dur,n,H,bias,rate)\n",
    "    pan = np.zeros(alpha_count * beta_count)\n",
    "    output = np.zeros(frames,dtype=np.float32)\n",
    "    window = get_window('blackmanharris',n)\n",
    "    hist_count = 4 * N\n",
    "    for i, pars in enumerate(scan(1.0,9.75,alpha_count,-0.95,0.5,beta_count)):\n",
    "        alpha, beta = pars\n",
    "        hist = gauss_hist(alpha,beta,N,hist_count,N)\n",
    "        pan[i] = np.average(pan_range, weights=hist) / N\n",
    "        seg = segment(hist,n,window)\n",
    "        start = i * H\n",
    "        end = start + n\n",
    "        output[start:end] += seg\n",
    "    return output, pan\n"
   ]
  },
  {
   "cell_type": "code",
   "execution_count": 41,
   "metadata": {},
   "outputs": [],
   "source": [
    "def dump_mono(data,fname,rate=44100):\n",
    "    scale = 32767.0 / np.max(data) \n",
    "    buff = scale * data\n",
    "    wavfile.write(fname, rate, buff.astype(np.int16))\n",
    "    \n",
    "def dump_stereo(data, pan, H, depth, fname, reverse=True, rate=44100):\n",
    "    scale = 32767.0 / np.max(data)\n",
    "    floor = 1.0 - depth\n",
    "    f = UnivariateSpline(np.arange(0,len(data),H)[0:len(pan)], pan)\n",
    "    pan_interp = depth * f(np.arange(len(data)))\n",
    "    output = np.zeros((len(data),2))\n",
    "    output[:,0] = scale * (floor + pan_interp) * data\n",
    "    if reverse:\n",
    "        output[::-1,1] = scale * (1.0 - pan_interp) * data\n",
    "    else:\n",
    "        output[:,1] = scale * (1.0 - pan_interp) * data   \n",
    "    wavfile.write(fname, rate, output.astype(np.int16)) "
   ]
  },
  {
   "cell_type": "code",
   "execution_count": null,
   "metadata": {},
   "outputs": [],
   "source": [
    "def write_frames(path, prefix, alpha_min, alpha_max, beta_min, beta_max, frames, width=1280, height=720):\n",
    "    if not os.path.exists(path):\n",
    "        os.makedirs(path)\n",
    "    d_alpha = (alpha_max - alpha_min) / frames\n",
    "    for i in range(frames):\n",
    "        alpha = alpha_min + i * d_alpha\n",
    "        fname = path + '/' + prefix + ('000000'+str(i))[-6:] + '.png'\n",
    "        img = gauss_image(alpha, beta_min, beta_max, width, height)\n",
    "\n"
   ]
  }
 ],
 "metadata": {
  "kernelspec": {
   "display_name": "Python 3",
   "language": "python",
   "name": "python3"
  },
  "language_info": {
   "codemirror_mode": {
    "name": "ipython",
    "version": 3
   },
   "file_extension": ".py",
   "mimetype": "text/x-python",
   "name": "python",
   "nbconvert_exporter": "python",
   "pygments_lexer": "ipython3",
   "version": "3.5.2"
  }
 },
 "nbformat": 4,
 "nbformat_minor": 2
}
