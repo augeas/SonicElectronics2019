{
 "cells": [
  {
   "cell_type": "code",
   "execution_count": null,
   "metadata": {},
   "outputs": [],
   "source": [
    "from io import BytesIO\n",
    "from itertools import islice\n",
    "import os\n",
    "import math\n",
    "\n",
    "from IPython import display\n",
    "import ipywidgets as widgets\n",
    "from imageio import imwrite\n",
    "from ipywidgets import interact\n",
    "from matplotlib import cm\n",
    "import matplotlib.pyplot as plt\n",
    "import numpy as np\n",
    "from scipy.interpolate import UnivariateSpline\n",
    "from scipy.io import wavfile\n",
    "from scipy.signal import get_window\n",
    "from tqdm import tqdm_notebook"
   ]
  },
  {
   "cell_type": "markdown",
   "metadata": {},
   "source": [
    "![Both Kinds!](img/both_kinds.png)"
   ]
  },
  {
   "cell_type": "markdown",
   "metadata": {},
   "source": [
    "# Fast Fourier Transforms\n",
    "\n",
    "[![Think DSP](http://greenteapress.com/wp/wp-content/uploads/2016/01/think_dsp_cover-229x300.jpg)](http://greenteapress.com/wp/think-dsp/)"
   ]
  },
  {
   "cell_type": "code",
   "execution_count": null,
   "metadata": {},
   "outputs": [],
   "source": [
    "def pulse_wave(period, width, N, samples=128):\n",
    "    pw = width / period\n",
    "    wave = np.zeros((N+1, samples))\n",
    "    t = 2.0*np.pi * np.linspace(0.0, 2*np.pi, samples) / period\n",
    "    for i in range(N-1):\n",
    "        n = i+1\n",
    "        wave[i,:] = 2.0/(n*np.pi) * np.sin(np.pi*n*pw) * np.cos(n*t)\n",
    "    wave[N-1,:] = pw + wave[0:N-1,:].sum(axis=0)\n",
    "    return wave\n",
    "\n",
    "def plot_pulse_wave(period, pulse_width, harmonics):\n",
    "    fig, ax = plt.subplots()\n",
    "    fig.set_size_inches(10, 6)\n",
    "    width = pulse_width * period\n",
    "    t = np.linspace(0.0, 2*np.pi, 512)\n",
    "    wave = pulse_wave(period, width, harmonics, 512)\n",
    "    for i in range(harmonics-1):\n",
    "        plt.plot(t, wave[i], color='blue')\n",
    "    plt.plot(t, wave[harmonics-1], color='green', linewidth=2)"
   ]
  },
  {
   "cell_type": "markdown",
   "metadata": {},
   "source": [
    "# [Pulse Waves](https://en.wikipedia.org/wiki/Pulse_wave)\n",
    "\n",
    "$$\\Large{\\textrm{At time t for period T and duty-cycle $\\tau$:}\n",
    "\\\\f(t) = \\frac{\\tau}{T} + \\sum_{n=1}^{\\infty}\\frac{2}{n\\pi}sin\\left(\\frac{\\pi n\\tau}{T}\\right)\n",
    "cos\\left(\\frac{2\\pi n t}{T} \\right)}$$\n"
   ]
  },
  {
   "cell_type": "code",
   "execution_count": null,
   "metadata": {},
   "outputs": [],
   "source": [
    "interact(plot_pulse_wave,\n",
    "    period = widgets.FloatSlider(min=0.5, max=6.0, value=3.0, step=0.5, description='period'),\n",
    "    pulse_width = widgets.FloatSlider(min=0.1, max=0.99, value=0.5, step=0.1, description='duty-cycle'),\n",
    "    harmonics = widgets.IntSlider(min=1, max=50, value=8, step=1, description='harmonics'))"
   ]
  },
  {
   "cell_type": "markdown",
   "metadata": {},
   "source": [
    "# [The Gauss Map](https://en.wikipedia.org/wiki/Gauss_iterated_map)\n",
    "$$\\Huge{x_{n+1} = e^{(-\\alpha x_{n}^2)}+\\beta}$$"
   ]
  },
  {
   "cell_type": "code",
   "execution_count": null,
   "metadata": {},
   "outputs": [],
   "source": [
    "def gauss_map(x,alpha,beta):\n",
    "    while True:\n",
    "        yield x\n",
    "        x = math.exp(-alpha*x*x) + beta\n",
    "        \n",
    "def gauss_hist(alpha,beta,n,count,skip):\n",
    "    gm = gauss_map(0.01,alpha,beta)\n",
    "    hist = np.histogram(list(islice(gm,skip,skip+count)),n,(-1.5,1.5))[0]\n",
    "    scale = 1.0 / np.max(hist)\n",
    "    return hist * scale\n",
    "\n",
    "def plot_gauss_hist(alpha,beta):\n",
    "    fig, ax = plt.subplots()\n",
    "    fig.set_size_inches(10, 6)\n",
    "    plt.plot(gauss_hist(alpha, beta, 720, 512, 4096), color='green')\n",
    "    plt.show()"
   ]
  },
  {
   "cell_type": "code",
   "execution_count": null,
   "metadata": {},
   "outputs": [],
   "source": [
    "interact(plot_gauss_hist, alpha=widgets.FloatSlider(min=1.0,max=9.75, value=4.0, step=0.5, description=r'\\(\\Large{\\alpha}\\)'),\n",
    "    beta=widgets.FloatSlider(min=-1.0,max=1.0, value=-0.5, step=0.05, description=r'\\(\\Large{\\beta}\\)'))"
   ]
  },
  {
   "cell_type": "code",
   "execution_count": null,
   "metadata": {},
   "outputs": [],
   "source": [
    "def gauss_image(alpha, beta_min, beta_max, width, height):\n",
    "    img = np.zeros(shape=(height, width,3))\n",
    "    for y, beta in enumerate(np.linspace(beta_min, beta_max, width)):\n",
    "        img[:,y,1] = gauss_hist(alpha, beta, height, 512, 4096)[::-1]\n",
    "    img = 255 * img / img.max()\n",
    "    return img.astype(np.uint8)\n",
    "\n",
    "def plot_gauss_image(alpha):\n",
    "    im_bytes = BytesIO()\n",
    "    imwrite(im_bytes, gauss_image(alpha, -1.0, 1.0, 600, 480), format='png')\n",
    "    return display.display(display.Image(data=im_bytes.getvalue()))\n",
    "\n",
    "def segment(hist, n, win):\n",
    "    return np.multiply(np.real(np.fft.irfft(hist, n=n)), win)"
   ]
  },
  {
   "cell_type": "code",
   "execution_count": null,
   "metadata": {},
   "outputs": [],
   "source": [
    "interact(plot_gauss_image, alpha=widgets.FloatSlider(min=1.0,max=9.75, value=5.0, step=0.5, description=r'\\(\\Large{\\alpha}\\)'))"
   ]
  },
  {
   "cell_type": "code",
   "execution_count": null,
   "metadata": {
    "code_folding": [
     0
    ],
    "scrolled": true
   },
   "outputs": [],
   "source": [
    "# Example of a windowed IFFT.\n",
    "%matplotlib inline\n",
    "N = 1024\n",
    "window = get_window('blackmanharris',2*(N-1))\n",
    "fig, axs = plt.subplots(3, 1)\n",
    "fig.set_size_inches(12, 6)\n",
    "axs[0].plot(np.real(np.fft.irfft(gauss_hist(9.0, -0.6, 1024, 512, 409), n=2046)), color='green')\n",
    "axs[0].set_ylabel('inverse FFT')\n",
    "axs[1].plot(window, color='green', linewidth=2)\n",
    "axs[1].set_ylabel('window')\n",
    "axs[2].plot(segment(gauss_hist(9.0,-0.6,1024,512,409),2046,window), color='green')\n",
    "axs[2].set_ylabel('windowed signal')"
   ]
  },
  {
   "cell_type": "markdown",
   "metadata": {},
   "source": [
    "![the first thing to do would be to consider time as offically ended](img/time_officially_ended.png)"
   ]
  },
  {
   "cell_type": "code",
   "execution_count": null,
   "metadata": {},
   "outputs": [],
   "source": [
    "def scan(alpha_min,alpha_max,alpha_count,beta_min,beta_max,beta_count):\n",
    "    d_alpha = (alpha_max - alpha_min) / alpha_count\n",
    "    d_beta = (beta_max - beta_min) / beta_count\n",
    "    beta = beta_min\n",
    "    for i in range(alpha_count):\n",
    "        alpha = alpha_min + d_alpha * i\n",
    "        if i % 2 == 1:\n",
    "            db = -d_beta\n",
    "        else:\n",
    "            db = d_beta\n",
    "        for j in range(beta_count):\n",
    "            yield(alpha, beta)\n",
    "            beta += db\n",
    "\n",
    "            \n",
    "def frame_count(dur, N, H, bias, rate=44100):\n",
    "    frames = dur * rate\n",
    "    segments = int(frames / H)\n",
    "    alpha_count = int(bias * np.sqrt(segments))\n",
    "    beta_count = int(segments / alpha_count)\n",
    "    segments = alpha_count * beta_count\n",
    "    frames = 2 * (N-1) + segments * H\n",
    "    return frames, alpha_count, beta_count\n",
    "\n",
    "\n",
    "def build_frames(dur, N, n, H, bias, alpha_min=1.0, alpha_max=9.75, beta_min=-0.95, beta_max=0.5, rate=44100):\n",
    "    pan_range = np.arange(N)\n",
    "    frames, alpha_count, beta_count = frame_count(dur,n,H,bias,rate)\n",
    "    pan = np.zeros(alpha_count * beta_count)\n",
    "    output = np.zeros(frames,dtype=np.float32)\n",
    "    window = get_window('blackmanharris',n)\n",
    "    hist_count = 4 * N\n",
    "    with tqdm_notebook(range(alpha_count*beta_count), desc='building audio', leave=True) as bar:\n",
    "        for i, pars in enumerate(scan(alpha_min ,alpha_max, alpha_count, beta_min , beta_max, beta_count)):\n",
    "            alpha, beta = pars\n",
    "            hist = gauss_hist(alpha,beta,N,hist_count,N)\n",
    "            pan[i] = np.average(pan_range, weights=hist) / N\n",
    "            seg = segment(hist,n,window)\n",
    "            start = i * H\n",
    "            end = start + n\n",
    "            output[start:end] += seg\n",
    "            bar.update(1)\n",
    "    return frames, output, pan\n"
   ]
  },
  {
   "cell_type": "code",
   "execution_count": null,
   "metadata": {},
   "outputs": [],
   "source": [
    "def dump_mono(data,fname,rate=44100):\n",
    "    scale = 32767.0 / np.max(data) \n",
    "    buff = scale * data\n",
    "    wavfile.write(fname, rate, buff.astype(np.int16))\n",
    "    \n",
    "def dump_stereo(data, pan, H, depth, fname, reverse=True, rate=44100):\n",
    "    scale = 32767.0 / np.max(data)\n",
    "    floor = 1.0 - depth\n",
    "    f = UnivariateSpline(np.arange(0,len(data),H)[0:len(pan)], pan)\n",
    "    pan_interp = depth * f(np.arange(len(data)))\n",
    "    output = np.zeros((len(data),2))\n",
    "    output[:,0] = scale * (floor + pan_interp) * data\n",
    "    if reverse:\n",
    "        output[::-1,1] = scale * (1.0 - pan_interp) * data\n",
    "    else:\n",
    "        output[:,1] = scale * (1.0 - pan_interp) * data   \n",
    "    wavfile.write(fname, rate, output.astype(np.int16))"
   ]
  },
  {
   "cell_type": "code",
   "execution_count": null,
   "metadata": {},
   "outputs": [],
   "source": [
    "def write_frames(path, prefix, alpha_min, alpha_max, beta_min, beta_max, frames, width=1280, height=720):\n",
    "    if not os.path.exists(path):\n",
    "        os.makedirs(path)\n",
    "    d_alpha = (alpha_max - alpha_min) / frames\n",
    "    for i in range(frames):\n",
    "        alpha = alpha_min + i * d_alpha\n",
    "        fname = path + '/' + prefix + ('000000'+str(i))[-6:] + '.png'\n",
    "        img = gauss_image(alpha, beta_min, beta_max, width, height)\n",
    "        imwrite(fname, img, format='png')\n",
    "\n"
   ]
  },
  {
   "cell_type": "code",
   "execution_count": null,
   "metadata": {},
   "outputs": [],
   "source": [
    "#frames = 4 * 60 * 24\n",
    "#write_frames(\"./video\",'frame_',1.0,9.75,-0.95,0.5,frames)"
   ]
  },
  {
   "cell_type": "code",
   "execution_count": null,
   "metadata": {},
   "outputs": [],
   "source": [
    "name_box = widgets.Text(value='gauss_map', placeholder='enter a filename', description='filename')\n",
    "dur_slider = widgets.IntSlider(min=20, max=600, value=240, step=10, description='duration (s)')\n",
    "sample_slider = widgets.IntSlider(min=8, max=14, value=10, step=1, description='samples')\n",
    "fft_slider = widgets.IntSlider(min=8, max=20, value=16, step=1, description='FFT size')\n",
    "hop_slider = widgets.IntSlider(min=7, max=14, value=11, step=1, description='hop size')\n",
    "bias_slider = widgets.FloatSlider(min=0.1, max=1.5, value=0.25, step=1, description='bias')\n",
    "build_button = widgets.Button(description='Build')\n",
    "\n",
    "def build_gaussmap(b):\n",
    "    fname = name_box.value\n",
    "    dur = dur_slider.value\n",
    "    N = 2**sample_slider.value\n",
    "    n = 2**fft_slider.value\n",
    "    H = 2**hop_slider.value\n",
    "    bias = bias_slider.value\n",
    "    \n",
    "    frames, output, pan = build_frames(dur, N, n+N, H, bias, rate=48000)\n",
    "    \n",
    "    if not os.path.exists('audio'):\n",
    "        os.makedirs('audio')\n",
    "    audio_file = '/'.join(['audio', '{}.wav'.format(fname)])\n",
    "\n",
    "    output = dump_stereo(output, pan, H, 0.5, audio_file, reverse=True, rate=48000)\n",
    "    \n",
    "    display.display(display.Audio(filename=audio_file))\n",
    "\n",
    "build_button.on_click(build_gaussmap)"
   ]
  },
  {
   "cell_type": "code",
   "execution_count": null,
   "metadata": {
    "scrolled": true
   },
   "outputs": [],
   "source": [
    "for wdgt in (name_box, dur_slider, sample_slider, fft_slider, hop_slider, bias_slider, build_button):\n",
    "    display.display(wdgt)"
   ]
  },
  {
   "cell_type": "code",
   "execution_count": null,
   "metadata": {},
   "outputs": [],
   "source": []
  },
  {
   "cell_type": "code",
   "execution_count": null,
   "metadata": {},
   "outputs": [],
   "source": []
  },
  {
   "cell_type": "code",
   "execution_count": null,
   "metadata": {},
   "outputs": [],
   "source": []
  }
 ],
 "metadata": {
  "kernelspec": {
   "display_name": "Python 3",
   "language": "python",
   "name": "python3"
  },
  "language_info": {
   "codemirror_mode": {
    "name": "ipython",
    "version": 3
   },
   "file_extension": ".py",
   "mimetype": "text/x-python",
   "name": "python",
   "nbconvert_exporter": "python",
   "pygments_lexer": "ipython3",
   "version": "3.5.2"
  }
 },
 "nbformat": 4,
 "nbformat_minor": 2
}
